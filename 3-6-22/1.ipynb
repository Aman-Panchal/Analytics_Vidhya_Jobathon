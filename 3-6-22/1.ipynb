{
 "cells": [
  {
   "cell_type": "markdown",
   "id": "ade29882-571b-4295-885c-66a6baf260ad",
   "metadata": {},
   "source": [
    "# Predict CTR of an Email Campaign\n",
    "\n",
    "\n",
    "Can you predict the Click Through Rate (CTR) of an email campaign?\n",
    "\n",
    "\n",
    "\n",
    "## Problem Statement\n",
    "\n",
    "\n",
    "Most organizations today rely on email campaigns for effective communication with users. Email communication is one of the popular ways to pitch products to users and build trustworthy relationships with them.\n",
    "\n",
    "\n",
    "Email campaigns contain different types of CTA (Call To Action). The ultimate goal of email campaigns is to maximize the Click Through Rate (CTR).\n",
    "\n",
    "\n",
    "CTR is a measure of success for email campaigns. The higher the click rate, the better your email marketing campaign is. CTR is calculated by the no. of users who clicked on at least one of the CTA divided by the total no. of users the email was delivered to.\n",
    "\n",
    "\n",
    "CTR =   No. of users who clicked on at least one of the CTA / No. of emails delivered\n",
    "\n",
    "\n",
    "CTR depends on multiple factors like design, content, personalization, etc. \n",
    "\n",
    "\n",
    "* How do you design the email content effectively?\n",
    "* What should your subject line look like?\n",
    "* What should be the length of the email?\n",
    "* Do you need images in your email template?\n",
    "\n",
    "As a part of the Data Science team, in this hackathon, you will build a smart system to **predict the CTR for email campaigns** and therefore **identify the critical factors that will help the marketing team to maximize the CTR.**\n",
    "\n",
    "\n",
    "\n",
    "## Objective\n",
    "\n",
    "Your task at hand is to build a machine learning-based approach to predict the CTR of an email campaign.\n",
    "\n",
    "\n",
    "## About the Dataset\n",
    "\n",
    "You are provided with the information of past email campaigns containing the email attributes like subject and body length, no. of CTA, date and time of an email, type of the audience, whether its a personalized email or not, etc and the target variable indicating the CTR of the email campaign.\n",
    "\n",
    "\n",
    "## Data Dictionary\n",
    "\n",
    "\n",
    "You are provided with 3 files - `train.csv`, `test.csv` and `sample_submission.csv`\n",
    "\n",
    "`train.csv`\n",
    "| Variable | Description |\n",
    "| --- | --- |\n",
    "| campaign_id | Unique identifier of a campaign |\n",
    "| sender | Sender of an e-mail |\n",
    "| subject_len | No. of characters in a subject |\n",
    "| body_len | No. of characters in an email body |\n",
    "| mean_paragraph_len | Average no. of characters in paragraph of an email |\n",
    "| day_of_week | Day on which email is sent |\n",
    "| is_weekend | Boolean flag indicating if an email is sent on weekend or not |\n",
    "| times_of_day | Times of day when email is sent: Morning, Noon, Evening |\n",
    "| category | Category of the product an email is related to |\n",
    "| product | Type of the product an email is related to |\n",
    "| no_of_CTA | No. of Call To Actions in an email |\n",
    "| mean_CTA_len | Average no. of characters in a CTA |\n",
    "| is_image | No. of images in an email |\n",
    "| is_personalised | Boolean flag indicating if an email is personalized to the user or not |\n",
    "| is_quote | No. of quotes in an email |\n",
    "| is_timer | Boolean flag indicating if an email contains a timer or not |\n",
    "| is_emoticons | No. of emoticons in an email |\n",
    "| is_discount | Boolean flag indicating if an email contains a discount or not |\n",
    "| is_price | Boolean flag indicating if an email contains price or not |\n",
    "| is_urgency | Boolean flag indicating if an email contains urgency or not |\n",
    "| target_audience | Cluster label of the target audience |\n",
    "| click_rate (Target Variable) | Click rate of an email campaign |\n",
    "\n",
    "\n",
    "`sample_submission.csv`\n",
    "\n",
    "| Variable | Description |\n",
    "| --- | --- |\n",
    "| campaign_id | Unique Identifier of a campaign id |\n",
    "| click_rate (Target Variable) | Click rate of an email campaign |\n",
    "\n",
    "\n",
    "## Train and Test Set\n",
    "\n",
    "\n",
    "Train and Test set contains different sets of email campaigns containing information about the email campaign. Train set includes the target variable click_rate and you need to predict the click_rate of an email campaign in the test set.\n",
    "\n",
    "\n",
    "## Submission File Format\n",
    "\n",
    "\n",
    "sample_submission.csv contains 2 variables - `campaign id` and `click_rate`\n",
    "\n",
    "\n",
    "## Evaluation metric\n",
    "\n",
    "The evaluation metric for this hackathon would be `r2_score`"
   ]
  },
  {
   "cell_type": "code",
   "execution_count": 175,
   "id": "452ee037-e926-49b3-ae2b-774336d8d815",
   "metadata": {},
   "outputs": [],
   "source": [
    "import pandas as pd\n",
    "import numpy as np\n",
    "import matplotlib.pyplot as plt\n",
    "import warnings\n",
    "warnings.filterwarnings('ignore')"
   ]
  },
  {
   "cell_type": "code",
   "execution_count": 176,
   "id": "45783573-f7bf-41f2-947a-bf649bd72f4e",
   "metadata": {},
   "outputs": [],
   "source": [
    "train_data = \"data/train.csv\"\n",
    "test_data_path = \"data/test.csv\"\n",
    "submission_file_path = \"data/sample_submission.csv\""
   ]
  },
  {
   "cell_type": "code",
   "execution_count": 177,
   "id": "ec7af3ee-687a-4411-947e-7ba611b7f555",
   "metadata": {},
   "outputs": [
    {
     "data": {
      "text/html": [
       "<div>\n",
       "<style scoped>\n",
       "    .dataframe tbody tr th:only-of-type {\n",
       "        vertical-align: middle;\n",
       "    }\n",
       "\n",
       "    .dataframe tbody tr th {\n",
       "        vertical-align: top;\n",
       "    }\n",
       "\n",
       "    .dataframe thead th {\n",
       "        text-align: right;\n",
       "    }\n",
       "</style>\n",
       "<table border=\"1\" class=\"dataframe\">\n",
       "  <thead>\n",
       "    <tr style=\"text-align: right;\">\n",
       "      <th></th>\n",
       "      <th>campaign_id</th>\n",
       "      <th>sender</th>\n",
       "      <th>subject_len</th>\n",
       "      <th>body_len</th>\n",
       "      <th>mean_paragraph_len</th>\n",
       "      <th>day_of_week</th>\n",
       "      <th>is_weekend</th>\n",
       "      <th>times_of_day</th>\n",
       "      <th>category</th>\n",
       "      <th>product</th>\n",
       "      <th>...</th>\n",
       "      <th>is_image</th>\n",
       "      <th>is_personalised</th>\n",
       "      <th>is_quote</th>\n",
       "      <th>is_timer</th>\n",
       "      <th>is_emoticons</th>\n",
       "      <th>is_discount</th>\n",
       "      <th>is_price</th>\n",
       "      <th>is_urgency</th>\n",
       "      <th>target_audience</th>\n",
       "      <th>click_rate</th>\n",
       "    </tr>\n",
       "  </thead>\n",
       "  <tbody>\n",
       "    <tr>\n",
       "      <th>0</th>\n",
       "      <td>1</td>\n",
       "      <td>3</td>\n",
       "      <td>76</td>\n",
       "      <td>10439</td>\n",
       "      <td>39</td>\n",
       "      <td>5</td>\n",
       "      <td>1</td>\n",
       "      <td>Noon</td>\n",
       "      <td>6</td>\n",
       "      <td>26</td>\n",
       "      <td>...</td>\n",
       "      <td>0</td>\n",
       "      <td>0</td>\n",
       "      <td>0</td>\n",
       "      <td>0</td>\n",
       "      <td>0</td>\n",
       "      <td>0</td>\n",
       "      <td>0</td>\n",
       "      <td>0</td>\n",
       "      <td>14</td>\n",
       "      <td>0.103079</td>\n",
       "    </tr>\n",
       "    <tr>\n",
       "      <th>1</th>\n",
       "      <td>2</td>\n",
       "      <td>3</td>\n",
       "      <td>54</td>\n",
       "      <td>2570</td>\n",
       "      <td>256</td>\n",
       "      <td>5</td>\n",
       "      <td>1</td>\n",
       "      <td>Morning</td>\n",
       "      <td>2</td>\n",
       "      <td>11</td>\n",
       "      <td>...</td>\n",
       "      <td>0</td>\n",
       "      <td>0</td>\n",
       "      <td>0</td>\n",
       "      <td>0</td>\n",
       "      <td>0</td>\n",
       "      <td>0</td>\n",
       "      <td>0</td>\n",
       "      <td>0</td>\n",
       "      <td>10</td>\n",
       "      <td>0.700000</td>\n",
       "    </tr>\n",
       "    <tr>\n",
       "      <th>2</th>\n",
       "      <td>3</td>\n",
       "      <td>3</td>\n",
       "      <td>59</td>\n",
       "      <td>12801</td>\n",
       "      <td>16</td>\n",
       "      <td>5</td>\n",
       "      <td>1</td>\n",
       "      <td>Noon</td>\n",
       "      <td>2</td>\n",
       "      <td>11</td>\n",
       "      <td>...</td>\n",
       "      <td>1</td>\n",
       "      <td>0</td>\n",
       "      <td>1</td>\n",
       "      <td>0</td>\n",
       "      <td>0</td>\n",
       "      <td>0</td>\n",
       "      <td>0</td>\n",
       "      <td>0</td>\n",
       "      <td>16</td>\n",
       "      <td>0.002769</td>\n",
       "    </tr>\n",
       "    <tr>\n",
       "      <th>3</th>\n",
       "      <td>4</td>\n",
       "      <td>3</td>\n",
       "      <td>74</td>\n",
       "      <td>11037</td>\n",
       "      <td>30</td>\n",
       "      <td>4</td>\n",
       "      <td>0</td>\n",
       "      <td>Evening</td>\n",
       "      <td>15</td>\n",
       "      <td>9</td>\n",
       "      <td>...</td>\n",
       "      <td>0</td>\n",
       "      <td>0</td>\n",
       "      <td>0</td>\n",
       "      <td>0</td>\n",
       "      <td>0</td>\n",
       "      <td>0</td>\n",
       "      <td>0</td>\n",
       "      <td>0</td>\n",
       "      <td>10</td>\n",
       "      <td>0.010868</td>\n",
       "    </tr>\n",
       "    <tr>\n",
       "      <th>4</th>\n",
       "      <td>5</td>\n",
       "      <td>3</td>\n",
       "      <td>80</td>\n",
       "      <td>10011</td>\n",
       "      <td>27</td>\n",
       "      <td>5</td>\n",
       "      <td>1</td>\n",
       "      <td>Noon</td>\n",
       "      <td>6</td>\n",
       "      <td>26</td>\n",
       "      <td>...</td>\n",
       "      <td>0</td>\n",
       "      <td>0</td>\n",
       "      <td>1</td>\n",
       "      <td>0</td>\n",
       "      <td>0</td>\n",
       "      <td>0</td>\n",
       "      <td>0</td>\n",
       "      <td>0</td>\n",
       "      <td>14</td>\n",
       "      <td>0.142826</td>\n",
       "    </tr>\n",
       "  </tbody>\n",
       "</table>\n",
       "<p>5 rows × 22 columns</p>\n",
       "</div>"
      ],
      "text/plain": [
       "   campaign_id  sender  subject_len  body_len  mean_paragraph_len  \\\n",
       "0            1       3           76     10439                  39   \n",
       "1            2       3           54      2570                 256   \n",
       "2            3       3           59     12801                  16   \n",
       "3            4       3           74     11037                  30   \n",
       "4            5       3           80     10011                  27   \n",
       "\n",
       "   day_of_week  is_weekend times_of_day  category  product  ...  is_image  \\\n",
       "0            5           1         Noon         6       26  ...         0   \n",
       "1            5           1      Morning         2       11  ...         0   \n",
       "2            5           1         Noon         2       11  ...         1   \n",
       "3            4           0      Evening        15        9  ...         0   \n",
       "4            5           1         Noon         6       26  ...         0   \n",
       "\n",
       "   is_personalised  is_quote  is_timer  is_emoticons  is_discount  is_price  \\\n",
       "0                0         0         0             0            0         0   \n",
       "1                0         0         0             0            0         0   \n",
       "2                0         1         0             0            0         0   \n",
       "3                0         0         0             0            0         0   \n",
       "4                0         1         0             0            0         0   \n",
       "\n",
       "   is_urgency  target_audience  click_rate  \n",
       "0           0               14    0.103079  \n",
       "1           0               10    0.700000  \n",
       "2           0               16    0.002769  \n",
       "3           0               10    0.010868  \n",
       "4           0               14    0.142826  \n",
       "\n",
       "[5 rows x 22 columns]"
      ]
     },
     "execution_count": 177,
     "metadata": {},
     "output_type": "execute_result"
    }
   ],
   "source": [
    "train_df = pd.read_csv(train_data)\n",
    "train_df.head()"
   ]
  },
  {
   "cell_type": "code",
   "execution_count": 178,
   "id": "273bb7a5-c31d-4930-a1fc-36823fe7c357",
   "metadata": {},
   "outputs": [
    {
     "name": "stdout",
     "output_type": "stream",
     "text": [
      "<class 'pandas.core.frame.DataFrame'>\n",
      "RangeIndex: 1888 entries, 0 to 1887\n",
      "Data columns (total 22 columns):\n",
      " #   Column              Non-Null Count  Dtype  \n",
      "---  ------              --------------  -----  \n",
      " 0   campaign_id         1888 non-null   int64  \n",
      " 1   sender              1888 non-null   int64  \n",
      " 2   subject_len         1888 non-null   int64  \n",
      " 3   body_len            1888 non-null   int64  \n",
      " 4   mean_paragraph_len  1888 non-null   int64  \n",
      " 5   day_of_week         1888 non-null   int64  \n",
      " 6   is_weekend          1888 non-null   int64  \n",
      " 7   times_of_day        1888 non-null   object \n",
      " 8   category            1888 non-null   int64  \n",
      " 9   product             1888 non-null   int64  \n",
      " 10  no_of_CTA           1888 non-null   int64  \n",
      " 11  mean_CTA_len        1888 non-null   int64  \n",
      " 12  is_image            1888 non-null   int64  \n",
      " 13  is_personalised     1888 non-null   int64  \n",
      " 14  is_quote            1888 non-null   int64  \n",
      " 15  is_timer            1888 non-null   int64  \n",
      " 16  is_emoticons        1888 non-null   int64  \n",
      " 17  is_discount         1888 non-null   int64  \n",
      " 18  is_price            1888 non-null   int64  \n",
      " 19  is_urgency          1888 non-null   int64  \n",
      " 20  target_audience     1888 non-null   int64  \n",
      " 21  click_rate          1888 non-null   float64\n",
      "dtypes: float64(1), int64(20), object(1)\n",
      "memory usage: 324.6+ KB\n"
     ]
    }
   ],
   "source": [
    "train_df.info()"
   ]
  },
  {
   "cell_type": "markdown",
   "id": "ee32d18e-bbac-4692-84ff-b469c7961744",
   "metadata": {},
   "source": [
    "### Obervation:\n",
    "\n",
    "* We have one categorical variable and others are numeric"
   ]
  },
  {
   "cell_type": "code",
   "execution_count": 179,
   "id": "a0eab333-c085-4730-9163-b20bbd5835a4",
   "metadata": {},
   "outputs": [
    {
     "data": {
      "text/html": [
       "<div>\n",
       "<style scoped>\n",
       "    .dataframe tbody tr th:only-of-type {\n",
       "        vertical-align: middle;\n",
       "    }\n",
       "\n",
       "    .dataframe tbody tr th {\n",
       "        vertical-align: top;\n",
       "    }\n",
       "\n",
       "    .dataframe thead th {\n",
       "        text-align: right;\n",
       "    }\n",
       "</style>\n",
       "<table border=\"1\" class=\"dataframe\">\n",
       "  <thead>\n",
       "    <tr style=\"text-align: right;\">\n",
       "      <th></th>\n",
       "      <th>campaign_id</th>\n",
       "      <th>sender</th>\n",
       "      <th>subject_len</th>\n",
       "      <th>body_len</th>\n",
       "      <th>mean_paragraph_len</th>\n",
       "      <th>day_of_week</th>\n",
       "      <th>is_weekend</th>\n",
       "      <th>category</th>\n",
       "      <th>product</th>\n",
       "      <th>no_of_CTA</th>\n",
       "      <th>...</th>\n",
       "      <th>is_image</th>\n",
       "      <th>is_personalised</th>\n",
       "      <th>is_quote</th>\n",
       "      <th>is_timer</th>\n",
       "      <th>is_emoticons</th>\n",
       "      <th>is_discount</th>\n",
       "      <th>is_price</th>\n",
       "      <th>is_urgency</th>\n",
       "      <th>target_audience</th>\n",
       "      <th>click_rate</th>\n",
       "    </tr>\n",
       "  </thead>\n",
       "  <tbody>\n",
       "    <tr>\n",
       "      <th>count</th>\n",
       "      <td>1888.000000</td>\n",
       "      <td>1888.000000</td>\n",
       "      <td>1888.000000</td>\n",
       "      <td>1888.000000</td>\n",
       "      <td>1888.000000</td>\n",
       "      <td>1888.000000</td>\n",
       "      <td>1888.000000</td>\n",
       "      <td>1888.000000</td>\n",
       "      <td>1888.000000</td>\n",
       "      <td>1888.000000</td>\n",
       "      <td>...</td>\n",
       "      <td>1888.000000</td>\n",
       "      <td>1888.000000</td>\n",
       "      <td>1888.000000</td>\n",
       "      <td>1888.0</td>\n",
       "      <td>1888.000000</td>\n",
       "      <td>1888.000000</td>\n",
       "      <td>1888.000000</td>\n",
       "      <td>1888.000000</td>\n",
       "      <td>1888.000000</td>\n",
       "      <td>1888.000000</td>\n",
       "    </tr>\n",
       "    <tr>\n",
       "      <th>mean</th>\n",
       "      <td>944.500000</td>\n",
       "      <td>4.395657</td>\n",
       "      <td>86.246292</td>\n",
       "      <td>14185.780191</td>\n",
       "      <td>35.239407</td>\n",
       "      <td>2.828390</td>\n",
       "      <td>0.199682</td>\n",
       "      <td>9.949682</td>\n",
       "      <td>17.525424</td>\n",
       "      <td>4.222458</td>\n",
       "      <td>...</td>\n",
       "      <td>0.909958</td>\n",
       "      <td>0.056674</td>\n",
       "      <td>0.834216</td>\n",
       "      <td>0.0</td>\n",
       "      <td>0.210805</td>\n",
       "      <td>0.039725</td>\n",
       "      <td>40.197034</td>\n",
       "      <td>0.112288</td>\n",
       "      <td>11.634534</td>\n",
       "      <td>0.041888</td>\n",
       "    </tr>\n",
       "    <tr>\n",
       "      <th>std</th>\n",
       "      <td>545.162973</td>\n",
       "      <td>3.277927</td>\n",
       "      <td>30.143206</td>\n",
       "      <td>7327.615307</td>\n",
       "      <td>28.139498</td>\n",
       "      <td>1.763193</td>\n",
       "      <td>0.399867</td>\n",
       "      <td>5.300719</td>\n",
       "      <td>12.369526</td>\n",
       "      <td>4.628348</td>\n",
       "      <td>...</td>\n",
       "      <td>0.866467</td>\n",
       "      <td>0.231279</td>\n",
       "      <td>1.033901</td>\n",
       "      <td>0.0</td>\n",
       "      <td>0.613442</td>\n",
       "      <td>0.195363</td>\n",
       "      <td>553.957470</td>\n",
       "      <td>0.315804</td>\n",
       "      <td>2.949121</td>\n",
       "      <td>0.084223</td>\n",
       "    </tr>\n",
       "    <tr>\n",
       "      <th>min</th>\n",
       "      <td>1.000000</td>\n",
       "      <td>0.000000</td>\n",
       "      <td>9.000000</td>\n",
       "      <td>23.000000</td>\n",
       "      <td>4.000000</td>\n",
       "      <td>0.000000</td>\n",
       "      <td>0.000000</td>\n",
       "      <td>0.000000</td>\n",
       "      <td>0.000000</td>\n",
       "      <td>0.000000</td>\n",
       "      <td>...</td>\n",
       "      <td>0.000000</td>\n",
       "      <td>0.000000</td>\n",
       "      <td>0.000000</td>\n",
       "      <td>0.0</td>\n",
       "      <td>0.000000</td>\n",
       "      <td>0.000000</td>\n",
       "      <td>0.000000</td>\n",
       "      <td>0.000000</td>\n",
       "      <td>0.000000</td>\n",
       "      <td>0.000000</td>\n",
       "    </tr>\n",
       "    <tr>\n",
       "      <th>25%</th>\n",
       "      <td>472.750000</td>\n",
       "      <td>3.000000</td>\n",
       "      <td>69.000000</td>\n",
       "      <td>9554.500000</td>\n",
       "      <td>21.000000</td>\n",
       "      <td>1.000000</td>\n",
       "      <td>0.000000</td>\n",
       "      <td>6.000000</td>\n",
       "      <td>9.000000</td>\n",
       "      <td>2.000000</td>\n",
       "      <td>...</td>\n",
       "      <td>0.000000</td>\n",
       "      <td>0.000000</td>\n",
       "      <td>0.000000</td>\n",
       "      <td>0.0</td>\n",
       "      <td>0.000000</td>\n",
       "      <td>0.000000</td>\n",
       "      <td>0.000000</td>\n",
       "      <td>0.000000</td>\n",
       "      <td>12.000000</td>\n",
       "      <td>0.005413</td>\n",
       "    </tr>\n",
       "    <tr>\n",
       "      <th>50%</th>\n",
       "      <td>944.500000</td>\n",
       "      <td>3.000000</td>\n",
       "      <td>83.000000</td>\n",
       "      <td>12689.000000</td>\n",
       "      <td>29.000000</td>\n",
       "      <td>3.000000</td>\n",
       "      <td>0.000000</td>\n",
       "      <td>10.000000</td>\n",
       "      <td>12.000000</td>\n",
       "      <td>3.000000</td>\n",
       "      <td>...</td>\n",
       "      <td>1.000000</td>\n",
       "      <td>0.000000</td>\n",
       "      <td>1.000000</td>\n",
       "      <td>0.0</td>\n",
       "      <td>0.000000</td>\n",
       "      <td>0.000000</td>\n",
       "      <td>0.000000</td>\n",
       "      <td>0.000000</td>\n",
       "      <td>12.000000</td>\n",
       "      <td>0.010686</td>\n",
       "    </tr>\n",
       "    <tr>\n",
       "      <th>75%</th>\n",
       "      <td>1416.250000</td>\n",
       "      <td>3.000000</td>\n",
       "      <td>98.000000</td>\n",
       "      <td>17351.500000</td>\n",
       "      <td>40.000000</td>\n",
       "      <td>4.000000</td>\n",
       "      <td>0.000000</td>\n",
       "      <td>15.000000</td>\n",
       "      <td>27.250000</td>\n",
       "      <td>5.000000</td>\n",
       "      <td>...</td>\n",
       "      <td>2.000000</td>\n",
       "      <td>0.000000</td>\n",
       "      <td>1.000000</td>\n",
       "      <td>0.0</td>\n",
       "      <td>0.000000</td>\n",
       "      <td>0.000000</td>\n",
       "      <td>0.000000</td>\n",
       "      <td>0.000000</td>\n",
       "      <td>12.000000</td>\n",
       "      <td>0.035589</td>\n",
       "    </tr>\n",
       "    <tr>\n",
       "      <th>max</th>\n",
       "      <td>1888.000000</td>\n",
       "      <td>15.000000</td>\n",
       "      <td>265.000000</td>\n",
       "      <td>44491.000000</td>\n",
       "      <td>286.000000</td>\n",
       "      <td>6.000000</td>\n",
       "      <td>1.000000</td>\n",
       "      <td>15.000000</td>\n",
       "      <td>43.000000</td>\n",
       "      <td>49.000000</td>\n",
       "      <td>...</td>\n",
       "      <td>6.000000</td>\n",
       "      <td>1.000000</td>\n",
       "      <td>6.000000</td>\n",
       "      <td>0.0</td>\n",
       "      <td>6.000000</td>\n",
       "      <td>1.000000</td>\n",
       "      <td>14999.000000</td>\n",
       "      <td>1.000000</td>\n",
       "      <td>16.000000</td>\n",
       "      <td>0.897959</td>\n",
       "    </tr>\n",
       "  </tbody>\n",
       "</table>\n",
       "<p>8 rows × 21 columns</p>\n",
       "</div>"
      ],
      "text/plain": [
       "       campaign_id       sender  subject_len      body_len  \\\n",
       "count  1888.000000  1888.000000  1888.000000   1888.000000   \n",
       "mean    944.500000     4.395657    86.246292  14185.780191   \n",
       "std     545.162973     3.277927    30.143206   7327.615307   \n",
       "min       1.000000     0.000000     9.000000     23.000000   \n",
       "25%     472.750000     3.000000    69.000000   9554.500000   \n",
       "50%     944.500000     3.000000    83.000000  12689.000000   \n",
       "75%    1416.250000     3.000000    98.000000  17351.500000   \n",
       "max    1888.000000    15.000000   265.000000  44491.000000   \n",
       "\n",
       "       mean_paragraph_len  day_of_week   is_weekend     category      product  \\\n",
       "count         1888.000000  1888.000000  1888.000000  1888.000000  1888.000000   \n",
       "mean            35.239407     2.828390     0.199682     9.949682    17.525424   \n",
       "std             28.139498     1.763193     0.399867     5.300719    12.369526   \n",
       "min              4.000000     0.000000     0.000000     0.000000     0.000000   \n",
       "25%             21.000000     1.000000     0.000000     6.000000     9.000000   \n",
       "50%             29.000000     3.000000     0.000000    10.000000    12.000000   \n",
       "75%             40.000000     4.000000     0.000000    15.000000    27.250000   \n",
       "max            286.000000     6.000000     1.000000    15.000000    43.000000   \n",
       "\n",
       "         no_of_CTA  ...     is_image  is_personalised     is_quote  is_timer  \\\n",
       "count  1888.000000  ...  1888.000000      1888.000000  1888.000000    1888.0   \n",
       "mean      4.222458  ...     0.909958         0.056674     0.834216       0.0   \n",
       "std       4.628348  ...     0.866467         0.231279     1.033901       0.0   \n",
       "min       0.000000  ...     0.000000         0.000000     0.000000       0.0   \n",
       "25%       2.000000  ...     0.000000         0.000000     0.000000       0.0   \n",
       "50%       3.000000  ...     1.000000         0.000000     1.000000       0.0   \n",
       "75%       5.000000  ...     2.000000         0.000000     1.000000       0.0   \n",
       "max      49.000000  ...     6.000000         1.000000     6.000000       0.0   \n",
       "\n",
       "       is_emoticons  is_discount      is_price   is_urgency  target_audience  \\\n",
       "count   1888.000000  1888.000000   1888.000000  1888.000000      1888.000000   \n",
       "mean       0.210805     0.039725     40.197034     0.112288        11.634534   \n",
       "std        0.613442     0.195363    553.957470     0.315804         2.949121   \n",
       "min        0.000000     0.000000      0.000000     0.000000         0.000000   \n",
       "25%        0.000000     0.000000      0.000000     0.000000        12.000000   \n",
       "50%        0.000000     0.000000      0.000000     0.000000        12.000000   \n",
       "75%        0.000000     0.000000      0.000000     0.000000        12.000000   \n",
       "max        6.000000     1.000000  14999.000000     1.000000        16.000000   \n",
       "\n",
       "        click_rate  \n",
       "count  1888.000000  \n",
       "mean      0.041888  \n",
       "std       0.084223  \n",
       "min       0.000000  \n",
       "25%       0.005413  \n",
       "50%       0.010686  \n",
       "75%       0.035589  \n",
       "max       0.897959  \n",
       "\n",
       "[8 rows x 21 columns]"
      ]
     },
     "execution_count": 179,
     "metadata": {},
     "output_type": "execute_result"
    }
   ],
   "source": [
    "train_df.describe()"
   ]
  },
  {
   "cell_type": "markdown",
   "id": "03e3ae56-e2c3-418a-a7e2-22b2ffe570f9",
   "metadata": {},
   "source": [
    "### Time of the day"
   ]
  },
  {
   "cell_type": "code",
   "execution_count": 180,
   "id": "4122e326-73c2-499b-88e4-1791322add89",
   "metadata": {},
   "outputs": [
    {
     "data": {
      "text/plain": [
       "Evening    1317\n",
       "Noon        447\n",
       "Morning     124\n",
       "Name: times_of_day, dtype: int64"
      ]
     },
     "execution_count": 180,
     "metadata": {},
     "output_type": "execute_result"
    }
   ],
   "source": [
    "train_df.times_of_day.value_counts()"
   ]
  },
  {
   "cell_type": "code",
   "execution_count": 181,
   "id": "fad90473-7577-42f7-b32c-9fc0d982aaad",
   "metadata": {},
   "outputs": [
    {
     "data": {
      "text/plain": [
       "<AxesSubplot:>"
      ]
     },
     "execution_count": 181,
     "metadata": {},
     "output_type": "execute_result"
    },
    {
     "data": {
      "image/png": "[encoded data removed]",
      "text/plain": [
       "<Figure size 432x288 with 1 Axes>"
      ]
     },
     "metadata": {},
     "output_type": "display_data"
    }
   ],
   "source": [
    "train_df.query(\"times_of_day=='Evening'\")['click_rate'].hist(bins=50, legend='Evening')\n",
    "train_df.query(\"times_of_day=='Noon'\")['click_rate'].hist(bins=50, legend='Noon')\n",
    "train_df.query(\"times_of_day=='Morning'\")['click_rate'].hist(bins=50, legend='Morning')"
   ]
  },
  {
   "cell_type": "markdown",
   "id": "f84a2fe7-1328-45ab-8c32-ddc00e62aa00",
   "metadata": {},
   "source": [
    "### Sender"
   ]
  },
  {
   "cell_type": "code",
   "execution_count": 182,
   "id": "59bfc63b-292a-44df-9ee8-fea35ddf8caa",
   "metadata": {},
   "outputs": [
    {
     "data": {
      "text/plain": [
       "3     1559\n",
       "10     181\n",
       "15      89\n",
       "6       22\n",
       "9       13\n",
       "14       7\n",
       "11       7\n",
       "0        3\n",
       "12       3\n",
       "7        2\n",
       "2        1\n",
       "1        1\n",
       "Name: sender, dtype: int64"
      ]
     },
     "execution_count": 182,
     "metadata": {},
     "output_type": "execute_result"
    }
   ],
   "source": [
    "train_df.sender.value_counts()"
   ]
  },
  {
   "cell_type": "code",
   "execution_count": 183,
   "id": "773e1575-cac2-4ac9-b1a8-6f4c127f513c",
   "metadata": {},
   "outputs": [
    {
     "data": {
      "text/plain": [
       "<matplotlib.collections.PathCollection at 0x25b956116c0>"
      ]
     },
     "execution_count": 183,
     "metadata": {},
     "output_type": "execute_result"
    },
    {
     "data": {
      "image/png": "[encoded data removed]",
      "text/plain": [
       "<Figure size 432x288 with 1 Axes>"
      ]
     },
     "metadata": {},
     "output_type": "display_data"
    }
   ],
   "source": [
    "plt.scatter(train_df.sender,  train_df.click_rate)"
   ]
  },
  {
   "cell_type": "markdown",
   "id": "76b3273b-926c-4612-9223-e13f6bafc9d5",
   "metadata": {},
   "source": [
    "### Category"
   ]
  },
  {
   "cell_type": "code",
   "execution_count": 184,
   "id": "ae5fea5b-a80b-4aa0-bad3-81ffa8b4619b",
   "metadata": {},
   "outputs": [
    {
     "data": {
      "text/plain": [
       "<AxesSubplot:>"
      ]
     },
     "execution_count": 184,
     "metadata": {},
     "output_type": "execute_result"
    },
    {
     "data": {
      "image/png": "[encoded data removed]",
      "text/plain": [
       "<Figure size 432x288 with 1 Axes>"
      ]
     },
     "metadata": {},
     "output_type": "display_data"
    }
   ],
   "source": [
    "train_df.category.hist(bins=20)"
   ]
  },
  {
   "cell_type": "code",
   "execution_count": 185,
   "id": "b909f4e1-2675-4ad0-95f9-e6c68b47f318",
   "metadata": {},
   "outputs": [
    {
     "data": {
      "text/plain": [
       "<matplotlib.collections.PathCollection at 0x25b956f9900>"
      ]
     },
     "execution_count": 185,
     "metadata": {},
     "output_type": "execute_result"
    },
    {
     "data": {
      "image/png": "[encoded data removed]",
      "text/plain": [
       "<Figure size 432x288 with 1 Axes>"
      ]
     },
     "metadata": {},
     "output_type": "display_data"
    }
   ],
   "source": [
    "plt.scatter(train_df.category,  train_df.click_rate)"
   ]
  },
  {
   "cell_type": "code",
   "execution_count": 186,
   "id": "1e461815-0e4d-4bdb-bb3e-84b69132bc03",
   "metadata": {},
   "outputs": [
    {
     "data": {
      "text/plain": [
       "<AxesSubplot:>"
      ]
     },
     "execution_count": 186,
     "metadata": {},
     "output_type": "execute_result"
    },
    {
     "data": {
      "image/png": "[encoded data removed]",
      "text/plain": [
       "<Figure size 432x288 with 1 Axes>"
      ]
     },
     "metadata": {},
     "output_type": "display_data"
    }
   ],
   "source": [
    "train_df['product'].hist(bins=50)"
   ]
  },
  {
   "cell_type": "code",
   "execution_count": 187,
   "id": "48fac16e-7e0e-48d5-92f5-87af63275884",
   "metadata": {},
   "outputs": [
    {
     "data": {
      "text/plain": [
       "<matplotlib.collections.PathCollection at 0x25b92707460>"
      ]
     },
     "execution_count": 187,
     "metadata": {},
     "output_type": "execute_result"
    },
    {
     "data": {
      "image/png": "[encoded data removed]",
      "text/plain": [
       "<Figure size 432x288 with 1 Axes>"
      ]
     },
     "metadata": {},
     "output_type": "display_data"
    }
   ],
   "source": [
    "plt.scatter(train_df['product'],  train_df.click_rate)"
   ]
  },
  {
   "cell_type": "code",
   "execution_count": 188,
   "id": "f4d7638f-3efa-4a19-b791-7b9d145ec2e7",
   "metadata": {},
   "outputs": [
    {
     "data": {
      "text/plain": [
       "<AxesSubplot:>"
      ]
     },
     "execution_count": 188,
     "metadata": {},
     "output_type": "execute_result"
    },
    {
     "data": {
      "image/png": "[encoded data removed]",
      "text/plain": [
       "<Figure size 432x288 with 1 Axes>"
      ]
     },
     "metadata": {},
     "output_type": "display_data"
    }
   ],
   "source": [
    "train_df.no_of_CTA.hist(bins=50)"
   ]
  },
  {
   "cell_type": "code",
   "execution_count": 189,
   "id": "30cdbb1b-2167-4cb2-8308-216c16c731ab",
   "metadata": {},
   "outputs": [
    {
     "data": {
      "text/plain": [
       "<matplotlib.collections.PathCollection at 0x25b960a6fe0>"
      ]
     },
     "execution_count": 189,
     "metadata": {},
     "output_type": "execute_result"
    },
    {
     "data": {
      "image/png": "[encoded data removed]",
      "text/plain": [
       "<Figure size 432x288 with 1 Axes>"
      ]
     },
     "metadata": {},
     "output_type": "display_data"
    }
   ],
   "source": [
    "plt.scatter(train_df['no_of_CTA'],  train_df.click_rate)"
   ]
  },
  {
   "cell_type": "code",
   "execution_count": 190,
   "id": "04a20d7f-193f-4808-aa24-0232d3d719b1",
   "metadata": {},
   "outputs": [
    {
     "data": {
      "text/plain": [
       "<AxesSubplot:>"
      ]
     },
     "execution_count": 190,
     "metadata": {},
     "output_type": "execute_result"
    },
    {
     "data": {
      "image/png": "[encoded data removed]",
      "text/plain": [
       "<Figure size 432x288 with 1 Axes>"
      ]
     },
     "metadata": {},
     "output_type": "display_data"
    }
   ],
   "source": [
    "train_df.click_rate.hist(bins=100)"
   ]
  },
  {
   "cell_type": "code",
   "execution_count": 191,
   "id": "81373698-186c-4a17-ab9b-3a6cc0ab1ccb",
   "metadata": {},
   "outputs": [
    {
     "data": {
      "text/plain": [
       "0    1781\n",
       "1     107\n",
       "Name: is_personalised, dtype: int64"
      ]
     },
     "execution_count": 191,
     "metadata": {},
     "output_type": "execute_result"
    }
   ],
   "source": [
    "train_df.is_personalised.value_counts()"
   ]
  },
  {
   "cell_type": "code",
   "execution_count": 192,
   "id": "0d335b79-57d4-452b-9cfc-a19e40d91068",
   "metadata": {},
   "outputs": [
    {
     "data": {
      "text/plain": [
       "0        1875\n",
       "5499        5\n",
       "8000        2\n",
       "5000        2\n",
       "4999        1\n",
       "1399        1\n",
       "1000        1\n",
       "14999       1\n",
       "Name: is_price, dtype: int64"
      ]
     },
     "execution_count": 192,
     "metadata": {},
     "output_type": "execute_result"
    }
   ],
   "source": [
    "train_df.is_price.value_counts()"
   ]
  },
  {
   "cell_type": "markdown",
   "id": "81622d33-d93a-4143-b5d8-a67cf31403bc",
   "metadata": {},
   "source": [
    "`is_price` doesn't justify much since all the values are almost zero. its better if we drop it. or may be we can create boolean variable"
   ]
  },
  {
   "cell_type": "code",
   "execution_count": 193,
   "id": "13e66524-a22f-4670-b07f-f6c7338c520b",
   "metadata": {},
   "outputs": [
    {
     "data": {
      "text/plain": [
       "0    1781\n",
       "1     107\n",
       "Name: is_personalised, dtype: int64"
      ]
     },
     "execution_count": 193,
     "metadata": {},
     "output_type": "execute_result"
    }
   ],
   "source": [
    "train_df.is_personalised.value_counts()"
   ]
  },
  {
   "cell_type": "code",
   "execution_count": 194,
   "id": "7eb279c6-e5e7-4ac7-9d92-c3a5467bf21c",
   "metadata": {},
   "outputs": [
    {
     "data": {
      "text/plain": [
       "0    1511\n",
       "1     377\n",
       "Name: is_weekend, dtype: int64"
      ]
     },
     "execution_count": 194,
     "metadata": {},
     "output_type": "execute_result"
    }
   ],
   "source": [
    "train_df.is_weekend.value_counts()"
   ]
  },
  {
   "cell_type": "code",
   "execution_count": 195,
   "id": "445a324a-28f8-4e2d-a810-206ffd87869c",
   "metadata": {},
   "outputs": [
    {
     "data": {
      "text/plain": [
       "0    1813\n",
       "1      75\n",
       "Name: is_discount, dtype: int64"
      ]
     },
     "execution_count": 195,
     "metadata": {},
     "output_type": "execute_result"
    }
   ],
   "source": [
    "train_df.is_discount.value_counts()"
   ]
  },
  {
   "cell_type": "code",
   "execution_count": 196,
   "id": "cc0d4cb7-d7de-4247-a369-5a1d37bfdc76",
   "metadata": {},
   "outputs": [
    {
     "data": {
      "text/plain": [
       "0    1626\n",
       "1     172\n",
       "2      54\n",
       "3      30\n",
       "4       4\n",
       "6       2\n",
       "Name: is_emoticons, dtype: int64"
      ]
     },
     "execution_count": 196,
     "metadata": {},
     "output_type": "execute_result"
    }
   ],
   "source": [
    "train_df.is_emoticons.value_counts()"
   ]
  },
  {
   "cell_type": "code",
   "execution_count": 197,
   "id": "a9677b56-3212-4dbc-8b50-913065e56d2b",
   "metadata": {},
   "outputs": [
    {
     "data": {
      "text/plain": [
       "0    885\n",
       "1    638\n",
       "2    227\n",
       "3     93\n",
       "4     27\n",
       "5     12\n",
       "6      6\n",
       "Name: is_quote, dtype: int64"
      ]
     },
     "execution_count": 197,
     "metadata": {},
     "output_type": "execute_result"
    }
   ],
   "source": [
    "train_df.is_quote.value_counts()"
   ]
  },
  {
   "cell_type": "code",
   "execution_count": 198,
   "id": "1e5ced29-6f59-44c5-9a90-845501449508",
   "metadata": {},
   "outputs": [
    {
     "data": {
      "text/plain": [
       "0    1676\n",
       "1     212\n",
       "Name: is_urgency, dtype: int64"
      ]
     },
     "execution_count": 198,
     "metadata": {},
     "output_type": "execute_result"
    }
   ],
   "source": [
    "train_df.is_urgency.value_counts()"
   ]
  },
  {
   "cell_type": "code",
   "execution_count": 199,
   "id": "dcdf5aa4-9a18-4f8d-a730-102e8e1f114e",
   "metadata": {},
   "outputs": [
    {
     "data": {
      "text/plain": [
       "0    1888\n",
       "Name: is_timer, dtype: int64"
      ]
     },
     "execution_count": 199,
     "metadata": {},
     "output_type": "execute_result"
    }
   ],
   "source": [
    "train_df.is_timer.value_counts()"
   ]
  },
  {
   "cell_type": "markdown",
   "id": "ee455271-b0a3-4c13-aedd-a62846fe0f1b",
   "metadata": {},
   "source": [
    "we can also drop `is_timer` column since it has the same value all the time"
   ]
  },
  {
   "cell_type": "code",
   "execution_count": 200,
   "id": "d0430057-8338-4494-bf3e-7179a60685d7",
   "metadata": {},
   "outputs": [
    {
     "data": {
      "text/plain": [
       "12    1169\n",
       "14     175\n",
       "10     136\n",
       "16     132\n",
       "15      61\n",
       "7       56\n",
       "1       50\n",
       "2       20\n",
       "5       16\n",
       "6       14\n",
       "11      12\n",
       "4       10\n",
       "13      10\n",
       "3        9\n",
       "8        9\n",
       "9        6\n",
       "0        3\n",
       "Name: target_audience, dtype: int64"
      ]
     },
     "execution_count": 200,
     "metadata": {},
     "output_type": "execute_result"
    }
   ],
   "source": [
    "train_df.target_audience.value_counts()"
   ]
  },
  {
   "cell_type": "code",
   "execution_count": 201,
   "id": "916e962e-7b65-41bc-97bf-0090546e6391",
   "metadata": {},
   "outputs": [],
   "source": [
    "train_df = train_df.set_index(['campaign_id'], drop=True)"
   ]
  },
  {
   "cell_type": "code",
   "execution_count": 202,
   "id": "e27e04b2-c0fe-4f48-908b-b46d76f58ffb",
   "metadata": {},
   "outputs": [
    {
     "data": {
      "text/plain": [
       "Index(['click_rate', 'mean_paragraph_len', 'product', 'is_weekend',\n",
       "       'day_of_week', 'target_audience', 'is_personalised', 'is_image',\n",
       "       'is_price', 'mean_CTA_len', 'sender', 'is_discount', 'is_emoticons',\n",
       "       'is_quote', 'is_urgency', 'category', 'no_of_CTA', 'subject_len',\n",
       "       'body_len', 'is_timer'],\n",
       "      dtype='object')"
      ]
     },
     "execution_count": 202,
     "metadata": {},
     "output_type": "execute_result"
    }
   ],
   "source": [
    "correlation = train_df.corr(method='pearson')\n",
    "columns = correlation.nlargest(20, 'click_rate').index\n",
    "columns"
   ]
  },
  {
   "cell_type": "code",
   "execution_count": 203,
   "id": "0e4a2e03-5996-4065-9223-89e7f35e83ba",
   "metadata": {},
   "outputs": [],
   "source": [
    "import seaborn as sns\n",
    "import matplotlib.pyplot as plt"
   ]
  },
  {
   "cell_type": "code",
   "execution_count": 204,
   "id": "36daf689-5bf7-4e2d-8e16-c08f8e045bb9",
   "metadata": {},
   "outputs": [
    {
     "data": {
      "image/png": "[encoded data removed]",
      "text/plain": [
       "<Figure size 1080x1080 with 2 Axes>"
      ]
     },
     "metadata": {},
     "output_type": "display_data"
    }
   ],
   "source": [
    "plt.figure(figsize=(15,15)) \n",
    "correlation_map = np.corrcoef(train_df[columns].values.T)\n",
    "sns.set(font_scale=1.0)\n",
    "heatmap = sns.heatmap(correlation_map, cbar=True, annot=True, square=True, fmt='.2f', yticklabels=columns.values, xticklabels=columns.values)\n",
    "\n",
    "plt.show()"
   ]
  },
  {
   "cell_type": "markdown",
   "id": "b8efbbbc-e7df-40ef-aec5-9b2ff6c336a6",
   "metadata": {},
   "source": [
    "## Filter Related Features"
   ]
  },
  {
   "cell_type": "code",
   "execution_count": 205,
   "id": "75b71756-09b9-4d06-b022-4cc3742b4801",
   "metadata": {},
   "outputs": [
    {
     "data": {
      "text/plain": [
       "Index(['sender', 'subject_len', 'body_len', 'mean_paragraph_len',\n",
       "       'day_of_week', 'is_weekend', 'times_of_day', 'category', 'product',\n",
       "       'no_of_CTA', 'mean_CTA_len', 'is_image', 'is_personalised', 'is_quote',\n",
       "       'is_timer', 'is_emoticons', 'is_discount', 'is_price', 'is_urgency',\n",
       "       'target_audience', 'click_rate'],\n",
       "      dtype='object')"
      ]
     },
     "execution_count": 205,
     "metadata": {},
     "output_type": "execute_result"
    }
   ],
   "source": [
    "train_df.columns"
   ]
  },
  {
   "cell_type": "markdown",
   "id": "b5c726fa-2444-4f15-ba01-187a730af913",
   "metadata": {},
   "source": [
    "## Feature Engineering"
   ]
  },
  {
   "cell_type": "markdown",
   "id": "466bf061-16ab-4be0-8981-bccfb6438b4e",
   "metadata": {},
   "source": [
    "1) Subject Length"
   ]
  },
  {
   "cell_type": "code",
   "execution_count": 206,
   "id": "0d28f484-8fe4-4a2f-b758-38cc5a7f1903",
   "metadata": {},
   "outputs": [
    {
     "data": {
      "text/plain": [
       "<AxesSubplot:>"
      ]
     },
     "execution_count": 206,
     "metadata": {},
     "output_type": "execute_result"
    },
    {
     "data": {
      "image/png": "[encoded data removed]",
      "text/plain": [
       "<Figure size 432x288 with 1 Axes>"
      ]
     },
     "metadata": {},
     "output_type": "display_data"
    }
   ],
   "source": [
    "train_df.subject_len.hist(bins=100)"
   ]
  },
  {
   "cell_type": "code",
   "execution_count": 258,
   "id": "758169cf-90b7-4818-b296-a464b69d3d42",
   "metadata": {},
   "outputs": [
    {
     "data": {
      "text/plain": [
       "small_sub_len     0.350636\n",
       "large_sub_len     0.331038\n",
       "medium_sub_len    0.318326\n",
       "Name: sub_len, dtype: float64"
      ]
     },
     "execution_count": 258,
     "metadata": {},
     "output_type": "execute_result"
    }
   ],
   "source": [
    "sub_len_bins = [-1, 75, 92, float('inf')]\n",
    "sub_len_labels = [\"small_sub_len\", \"medium_sub_len\", \"large_sub_len\"]\n",
    "train_df['sub_len'] = pd.cut(train_df['subject_len'], bins=sub_len_bins, labels=sub_len_labels)\n",
    "train_df['sub_len'].value_counts(normalize=True)"
   ]
  },
  {
   "cell_type": "markdown",
   "id": "cfd974b9-9eed-4667-a54e-c380c4949e75",
   "metadata": {},
   "source": [
    "2) Body Length"
   ]
  },
  {
   "cell_type": "code",
   "execution_count": 259,
   "id": "72d4fdc5-2eb7-4ff3-a7ff-58a306a95722",
   "metadata": {},
   "outputs": [
    {
     "data": {
      "text/plain": [
       "<AxesSubplot:>"
      ]
     },
     "execution_count": 259,
     "metadata": {},
     "output_type": "execute_result"
    },
    {
     "data": {
      "image/png": "[encoded data removed]",
      "text/plain": [
       "<Figure size 432x288 with 1 Axes>"
      ]
     },
     "metadata": {},
     "output_type": "display_data"
    }
   ],
   "source": [
    "train_df.body_len.hist(bins=100)"
   ]
  },
  {
   "cell_type": "code",
   "execution_count": 260,
   "id": "ea8a9324-c1a3-4fca-b473-2ef329101b83",
   "metadata": {},
   "outputs": [
    {
     "data": {
      "text/plain": [
       "campaign_id\n",
       "1       14\n",
       "2       10\n",
       "3       16\n",
       "4       10\n",
       "5       14\n",
       "        ..\n",
       "1884    10\n",
       "1885    11\n",
       "1886     6\n",
       "1887    16\n",
       "1888    10\n",
       "Name: target_audience, Length: 1888, dtype: int64"
      ]
     },
     "execution_count": 260,
     "metadata": {},
     "output_type": "execute_result"
    }
   ],
   "source": [
    "train_df.target_audience"
   ]
  },
  {
   "cell_type": "code",
   "execution_count": 261,
   "id": "24aa76fc-e458-4265-88f9-6183193c56ca",
   "metadata": {},
   "outputs": [
    {
     "data": {
      "text/plain": [
       "large_bod_len     0.342691\n",
       "medium_bod_len    0.329449\n",
       "small_bod_len     0.327860\n",
       "Name: bod_len, dtype: float64"
      ]
     },
     "execution_count": 261,
     "metadata": {},
     "output_type": "execute_result"
    }
   ],
   "source": [
    "body_len_bins = [-1, 10500, 15000, float('inf')]\n",
    "body_len_labels = [\"small_bod_len\", \"medium_bod_len\", \"large_bod_len\"]\n",
    "train_df['bod_len'] = pd.cut(train_df['body_len'], bins=body_len_bins, labels=body_len_labels)\n",
    "train_df['bod_len'].value_counts(normalize=True)"
   ]
  },
  {
   "cell_type": "markdown",
   "id": "d4a90111-abbc-43d0-9a8d-f6f95312b862",
   "metadata": {},
   "source": [
    "3) mean paragraph length"
   ]
  },
  {
   "cell_type": "code",
   "execution_count": 262,
   "id": "fc17e7c9-c854-40bc-a9fd-e18cac099bc0",
   "metadata": {},
   "outputs": [
    {
     "data": {
      "text/plain": [
       "<AxesSubplot:>"
      ]
     },
     "execution_count": 262,
     "metadata": {},
     "output_type": "execute_result"
    },
    {
     "data": {
      "image/png": "[encoded data removed]",
      "text/plain": [
       "<Figure size 432x288 with 1 Axes>"
      ]
     },
     "metadata": {},
     "output_type": "display_data"
    }
   ],
   "source": [
    "train_df.mean_paragraph_len.hist(bins=100)"
   ]
  },
  {
   "cell_type": "code",
   "execution_count": 263,
   "id": "82ee632b-242f-414c-b664-a23b6ede54a7",
   "metadata": {},
   "outputs": [
    {
     "data": {
      "text/plain": [
       "medium_para_len    0.353284\n",
       "large_para_len     0.336864\n",
       "small_para_len     0.309852\n",
       "Name: para_len, dtype: float64"
      ]
     },
     "execution_count": 263,
     "metadata": {},
     "output_type": "execute_result"
    }
   ],
   "source": [
    "para_len_bins = [-1, 22, 35, float('inf')]\n",
    "para_len_labels = [\"small_para_len\", \"medium_para_len\", \"large_para_len\"]\n",
    "train_df['para_len'] = pd.cut(train_df['mean_paragraph_len'], bins=para_len_bins, labels=para_len_labels)\n",
    "train_df['para_len'].value_counts(normalize=True)"
   ]
  },
  {
   "cell_type": "code",
   "execution_count": 264,
   "id": "5eb3c136-8124-4aa5-99c7-ef48086401f0",
   "metadata": {},
   "outputs": [
    {
     "data": {
      "text/plain": [
       "<AxesSubplot:>"
      ]
     },
     "execution_count": 264,
     "metadata": {},
     "output_type": "execute_result"
    },
    {
     "data": {
      "image/png": "[encoded data removed]",
      "text/plain": [
       "<Figure size 432x288 with 1 Axes>"
      ]
     },
     "metadata": {},
     "output_type": "display_data"
    }
   ],
   "source": [
    "train_df.mean_CTA_len.hist(bins=100)"
   ]
  },
  {
   "cell_type": "code",
   "execution_count": 265,
   "id": "9286837c-7206-4fa8-8735-725e992e8eeb",
   "metadata": {},
   "outputs": [
    {
     "data": {
      "text/plain": [
       "1888"
      ]
     },
     "execution_count": 265,
     "metadata": {},
     "output_type": "execute_result"
    }
   ],
   "source": [
    "para_len_bins = [-1, 25, 33, float('inf')]\n",
    "para_len_labels = [\"small_cta_len\", \"medium_cta_len\", \"large_cta_len\"]\n",
    "train_df['cta_len'] = pd.cut(train_df['mean_CTA_len'], bins=para_len_bins, labels=para_len_labels)\n",
    "train_df['cta_len'].value_counts().sum()"
   ]
  },
  {
   "cell_type": "markdown",
   "id": "b6fd3adc-c3c3-459c-9c0c-9714e608b663",
   "metadata": {},
   "source": [
    "4) Boolean Variables"
   ]
  },
  {
   "cell_type": "code",
   "execution_count": 266,
   "id": "7f2f14d5-1025-4543-937d-a690b90ebe27",
   "metadata": {},
   "outputs": [],
   "source": [
    "train_df.is_emoticons = train_df.is_emoticons.apply(lambda value: 0 if value==0 else 1)\n",
    "train_df.is_quote = train_df.is_quote.apply(lambda value: 0 if value==0 else 1)\n",
    "train_df.is_price = train_df.is_price.apply(lambda value: 0 if value==0 else 1)"
   ]
  },
  {
   "cell_type": "code",
   "execution_count": 267,
   "id": "eef02410-59d5-49ca-a670-b233fe12e327",
   "metadata": {},
   "outputs": [
    {
     "data": {
      "text/plain": [
       "0    1626\n",
       "1     262\n",
       "Name: is_emoticons, dtype: int64"
      ]
     },
     "execution_count": 267,
     "metadata": {},
     "output_type": "execute_result"
    }
   ],
   "source": [
    "train_df.is_emoticons.value_counts()"
   ]
  },
  {
   "cell_type": "code",
   "execution_count": 268,
   "id": "a241ea57-7715-4fac-ba5c-4a0e08938c77",
   "metadata": {},
   "outputs": [
    {
     "data": {
      "text/plain": [
       "1    1003\n",
       "0     885\n",
       "Name: is_quote, dtype: int64"
      ]
     },
     "execution_count": 268,
     "metadata": {},
     "output_type": "execute_result"
    }
   ],
   "source": [
    "train_df.is_quote.value_counts()"
   ]
  },
  {
   "cell_type": "code",
   "execution_count": 269,
   "id": "8c5c83c5-456b-4edf-bea3-ebe040b34ac0",
   "metadata": {},
   "outputs": [
    {
     "data": {
      "text/plain": [
       "0    1875\n",
       "1      13\n",
       "Name: is_price, dtype: int64"
      ]
     },
     "execution_count": 269,
     "metadata": {},
     "output_type": "execute_result"
    }
   ],
   "source": [
    "train_df.is_price.value_counts()"
   ]
  },
  {
   "cell_type": "code",
   "execution_count": 270,
   "id": "af94234b-c315-4549-b95a-f3880317bd7f",
   "metadata": {},
   "outputs": [
    {
     "data": {
      "text/plain": [
       "Index(['sender', 'subject_len', 'body_len', 'mean_paragraph_len',\n",
       "       'day_of_week', 'is_weekend', 'times_of_day', 'category', 'product',\n",
       "       'no_of_CTA', 'mean_CTA_len', 'is_image', 'is_personalised', 'is_quote',\n",
       "       'is_timer', 'is_emoticons', 'is_discount', 'is_price', 'is_urgency',\n",
       "       'target_audience', 'click_rate', 'sub_len', 'bod_len', 'para_len',\n",
       "       'cta_len'],\n",
       "      dtype='object')"
      ]
     },
     "execution_count": 270,
     "metadata": {},
     "output_type": "execute_result"
    }
   ],
   "source": [
    "train_df.columns"
   ]
  },
  {
   "cell_type": "markdown",
   "id": "7612f5b6-e0a5-4d25-b0ac-a8aefd46c1cd",
   "metadata": {},
   "source": [
    "## Create Simple Regressor using Catboost"
   ]
  },
  {
   "cell_type": "code",
   "execution_count": 271,
   "id": "544fd861-1025-438a-bf0e-8b718f3c0c46",
   "metadata": {},
   "outputs": [],
   "source": [
    "train_y = train_df['click_rate']\n",
    "# train_X = train_df.drop([\"click_rate\", \"campaign_id\", 'subject_len', 'body_len',\n",
    "#        'mean_paragraph_len'], axis=1)\n",
    "\n",
    "train_X = train_df.drop([\"click_rate\", \"is_timer\"], axis=1)"
   ]
  },
  {
   "cell_type": "code",
   "execution_count": 272,
   "id": "51c471f4-f785-49c2-a66e-010fcf664f04",
   "metadata": {},
   "outputs": [
    {
     "data": {
      "text/plain": [
       "{0: 'sender',\n",
       " 1: 'subject_len',\n",
       " 2: 'body_len',\n",
       " 3: 'mean_paragraph_len',\n",
       " 4: 'day_of_week',\n",
       " 5: 'is_weekend',\n",
       " 6: 'times_of_day',\n",
       " 7: 'category',\n",
       " 8: 'product',\n",
       " 9: 'no_of_CTA',\n",
       " 10: 'mean_CTA_len',\n",
       " 11: 'is_image',\n",
       " 12: 'is_personalised',\n",
       " 13: 'is_quote',\n",
       " 14: 'is_emoticons',\n",
       " 15: 'is_discount',\n",
       " 16: 'is_price',\n",
       " 17: 'is_urgency',\n",
       " 18: 'target_audience',\n",
       " 19: 'sub_len',\n",
       " 20: 'bod_len',\n",
       " 21: 'para_len',\n",
       " 22: 'cta_len'}"
      ]
     },
     "execution_count": 272,
     "metadata": {},
     "output_type": "execute_result"
    }
   ],
   "source": [
    "dict(enumerate(train_X.columns))"
   ]
  },
  {
   "cell_type": "code",
   "execution_count": 273,
   "id": "b1689132-78cd-46a6-add2-7e2d4c4e2b99",
   "metadata": {},
   "outputs": [],
   "source": [
    "cat_features = [0, 6, 7, 8, 18, 19, 20, 21, 22]\n",
    "# cat_features = [6]"
   ]
  },
  {
   "cell_type": "code",
   "execution_count": 276,
   "id": "c9e41efd-fcc6-42ae-a550-e3390c0c4f22",
   "metadata": {},
   "outputs": [],
   "source": [
    "from sklearn.model_selection import train_test_split\n",
    "X_train, X_val, y_train, y_val = train_test_split(train_X, train_y, test_size=0.25, random_state=18)"
   ]
  },
  {
   "cell_type": "code",
   "execution_count": 277,
   "id": "bba4b551-9ade-47ba-b337-0700ef245d39",
   "metadata": {},
   "outputs": [
    {
     "data": {
      "application/vnd.jupyter.widget-view+json": {
       "model_id": "09172a2c235846e58cfcc2a09b37fbba",
       "version_major": 2,
       "version_minor": 0
      },
      "text/plain": [
       "MetricVisualizer(layout=Layout(align_self='stretch', height='500px'))"
      ]
     },
     "metadata": {},
     "output_type": "display_data"
    },
    {
     "name": "stdout",
     "output_type": "stream",
     "text": [
      "Learning rate set to 0.053779\n",
      "0:\tlearn: 0.0207758\ttest: 0.0151806\tbest: 0.0151806 (0)\ttotal: 17.3ms\tremaining: 17.3s\n",
      "200:\tlearn: 0.7277047\ttest: 0.3861919\tbest: 0.3861919 (200)\ttotal: 7.96s\tremaining: 31.7s\n",
      "400:\tlearn: 0.8352584\ttest: 0.4405203\tbest: 0.4405203 (400)\ttotal: 16.1s\tremaining: 24s\n",
      "600:\tlearn: 0.8856751\ttest: 0.4631134\tbest: 0.4637454 (597)\ttotal: 24.6s\tremaining: 16.3s\n",
      "800:\tlearn: 0.9136252\ttest: 0.4694881\tbest: 0.4710838 (692)\ttotal: 32.6s\tremaining: 8.09s\n",
      "999:\tlearn: 0.9292416\ttest: 0.4767310\tbest: 0.4767310 (999)\ttotal: 41.8s\tremaining: 0us\n",
      "\n",
      "bestTest = 0.4767310048\n",
      "bestIteration = 999\n",
      "\n"
     ]
    },
    {
     "data": {
      "text/plain": [
       "<catboost.core.CatBoostRegressor at 0x25b8e22e4a0>"
      ]
     },
     "execution_count": 277,
     "metadata": {},
     "output_type": "execute_result"
    }
   ],
   "source": [
    "from catboost import CatBoostRegressor\n",
    "cb_reg = CatBoostRegressor(random_seed=13, verbose=200, iterations=1000, eval_metric='R2', loss_function='RMSE')\n",
    "cb_reg.fit(X_train, y_train, cat_features=cat_features, plot=True, eval_set=(X_val, y_val))"
   ]
  },
  {
   "cell_type": "code",
   "execution_count": 280,
   "id": "acf73d4c-aa5f-494a-961c-3c47773485f0",
   "metadata": {},
   "outputs": [],
   "source": [
    "cb_learn_rate = 0.006\n",
    "n_iterations = 80000\n",
    "early_stop_rounds = 400\n",
    "\n",
    "opt_catboost_params = {'iterations' : n_iterations,\n",
    "                       'learning_rate' : cb_learn_rate,\n",
    "                       'depth': 7,\n",
    "                       'bootstrap_type' : 'Bernoulli',\n",
    "                       'random_strength': 1,\n",
    "                       'min_data_in_leaf': 10,\n",
    "                       'l2_leaf_reg': 3,\n",
    "                       'loss_function' : 'RMSE', \n",
    "                       'eval_metric' : 'R2',\n",
    "                       'grow_policy' : 'Depthwise',\n",
    "                       'max_bin' : 1024, \n",
    "                       'model_size_reg' : 0,\n",
    "                       'task_type' : 'CPU',\n",
    "                       'od_type' : 'IncToDec',\n",
    "                       'od_wait' : 100,\n",
    "                       'metric_period' : 500,\n",
    "                       'verbose' : 500,\n",
    "                       'subsample' : 0.8,\n",
    "                       'od_pval' : 1e-10,\n",
    "                       'has_time': False,\n",
    "                       'random_seed' : 13}"
   ]
  },
  {
   "cell_type": "code",
   "execution_count": 281,
   "id": "ac197384-2fd6-43b0-9b7c-c600e9d5555b",
   "metadata": {},
   "outputs": [
    {
     "data": {
      "application/vnd.jupyter.widget-view+json": {
       "model_id": "49ef4f544d94449692f72871258730ca",
       "version_major": 2,
       "version_minor": 0
      },
      "text/plain": [
       "MetricVisualizer(layout=Layout(align_self='stretch', height='500px'))"
      ]
     },
     "metadata": {},
     "output_type": "display_data"
    },
    {
     "name": "stderr",
     "output_type": "stream",
     "text": [
      "Warning: Overfitting detector is active, thus evaluation metric is calculated on every iteration. 'metric_period' is ignored for evaluation metric.\n"
     ]
    },
    {
     "name": "stdout",
     "output_type": "stream",
     "text": [
      "0:\tlearn: 0.0031787\ttest: -0.0020876\tbest: -0.0020876 (0)\ttotal: 42.8ms\tremaining: 57m 3s\n",
      "500:\tlearn: 0.5907136\ttest: 0.3346065\tbest: 0.3349459 (498)\ttotal: 19.2s\tremaining: 50m 39s\n",
      "1000:\tlearn: 0.7070883\ttest: 0.3663276\tbest: 0.3663276 (1000)\ttotal: 37.3s\tremaining: 49m 4s\n",
      "1500:\tlearn: 0.7762076\ttest: 0.3930223\tbest: 0.3930223 (1500)\ttotal: 54.9s\tremaining: 47m 53s\n",
      "2000:\tlearn: 0.8251870\ttest: 0.4105143\tbest: 0.4105143 (2000)\ttotal: 1m 12s\tremaining: 47m 2s\n",
      "2500:\tlearn: 0.8600628\ttest: 0.4226872\tbest: 0.4226872 (2500)\ttotal: 1m 30s\tremaining: 46m 37s\n",
      "3000:\tlearn: 0.8850930\ttest: 0.4279810\tbest: 0.4280475 (2996)\ttotal: 1m 48s\tremaining: 46m 15s\n",
      "3500:\tlearn: 0.9041478\ttest: 0.4323450\tbest: 0.4323702 (3498)\ttotal: 2m 6s\tremaining: 45m 54s\n",
      "4000:\tlearn: 0.9186611\ttest: 0.4355689\tbest: 0.4356818 (3983)\ttotal: 2m 23s\tremaining: 45m 34s\n",
      "4500:\tlearn: 0.9305482\ttest: 0.4387241\tbest: 0.4388193 (4460)\ttotal: 2m 42s\tremaining: 45m 18s\n",
      "5000:\tlearn: 0.9403202\ttest: 0.4407101\tbest: 0.4407743 (4996)\ttotal: 3m\tremaining: 45m 1s\n",
      "5500:\tlearn: 0.9484336\ttest: 0.4428781\tbest: 0.4428859 (5498)\ttotal: 3m 18s\tremaining: 44m 47s\n",
      "6000:\tlearn: 0.9552859\ttest: 0.4446372\tbest: 0.4446441 (5999)\ttotal: 3m 36s\tremaining: 44m 35s\n",
      "6500:\tlearn: 0.9609715\ttest: 0.4464043\tbest: 0.4464043 (6500)\ttotal: 3m 55s\tremaining: 44m 21s\n",
      "7000:\tlearn: 0.9656839\ttest: 0.4476145\tbest: 0.4476502 (6989)\ttotal: 4m 13s\tremaining: 44m 5s\n",
      "7500:\tlearn: 0.9697132\ttest: 0.4485149\tbest: 0.4487625 (7361)\ttotal: 4m 32s\tremaining: 43m 50s\n",
      "8000:\tlearn: 0.9728973\ttest: 0.4491865\tbest: 0.4491978 (7959)\ttotal: 4m 50s\tremaining: 43m 34s\n",
      "8500:\tlearn: 0.9758434\ttest: 0.4500469\tbest: 0.4500629 (8499)\ttotal: 5m 9s\tremaining: 43m 20s\n",
      "9000:\tlearn: 0.9783407\ttest: 0.4506357\tbest: 0.4506378 (8920)\ttotal: 5m 27s\tremaining: 43m 6s\n",
      "9500:\tlearn: 0.9805294\ttest: 0.4510781\tbest: 0.4511411 (9475)\ttotal: 5m 46s\tremaining: 42m 52s\n",
      "10000:\tlearn: 0.9824022\ttest: 0.4515376\tbest: 0.4515376 (10000)\ttotal: 6m 5s\tremaining: 42m 38s\n",
      "10500:\tlearn: 0.9840160\ttest: 0.4518366\tbest: 0.4518997 (10458)\ttotal: 6m 24s\tremaining: 42m 22s\n",
      "11000:\tlearn: 0.9855701\ttest: 0.4521918\tbest: 0.4522249 (10985)\ttotal: 6m 42s\tremaining: 42m 7s\n",
      "11500:\tlearn: 0.9868393\ttest: 0.4521400\tbest: 0.4523754 (11321)\ttotal: 7m 1s\tremaining: 41m 51s\n",
      "Stopped by overfitting detector  (400 iterations wait)\n",
      "\n",
      "bestTest = 0.4523753967\n",
      "bestIteration = 11321\n",
      "\n",
      "Shrink model to first 11322 iterations.\n"
     ]
    },
    {
     "data": {
      "text/plain": [
       "<catboost.core.CatBoostRegressor at 0x25b8e2cb850>"
      ]
     },
     "execution_count": 281,
     "metadata": {},
     "output_type": "execute_result"
    }
   ],
   "source": [
    "cb_reg = CatBoostRegressor(**opt_catboost_params)\n",
    "\n",
    "cb_reg.fit(X_train, y_train, cat_features=cat_features, eval_set=(X_val, y_val), \n",
    "           use_best_model=True, plot=True, \n",
    "           early_stopping_rounds=early_stop_rounds)"
   ]
  },
  {
   "cell_type": "code",
   "execution_count": 282,
   "id": "3b19b6b2-8ada-4401-a98b-e36694fd8f69",
   "metadata": {},
   "outputs": [
    {
     "name": "stdout",
     "output_type": "stream",
     "text": [
      "0:\tlearn: 0.0036055\ttotal: 45.2ms\tremaining: 9m 2s\n",
      "500:\tlearn: 0.6047951\ttotal: 19.1s\tremaining: 7m 18s\n",
      "1000:\tlearn: 0.7097911\ttotal: 37s\tremaining: 6m 46s\n",
      "1500:\tlearn: 0.7702164\ttotal: 54.5s\tremaining: 6m 21s\n",
      "2000:\tlearn: 0.8141602\ttotal: 1m 11s\tremaining: 5m 59s\n",
      "2500:\tlearn: 0.8452463\ttotal: 1m 29s\tremaining: 5m 41s\n",
      "3000:\tlearn: 0.8701871\ttotal: 1m 47s\tremaining: 5m 22s\n",
      "3500:\tlearn: 0.8885828\ttotal: 2m 5s\tremaining: 5m 4s\n",
      "4000:\tlearn: 0.9042201\ttotal: 2m 23s\tremaining: 4m 47s\n",
      "4500:\tlearn: 0.9165308\ttotal: 2m 42s\tremaining: 4m 29s\n",
      "5000:\tlearn: 0.9271871\ttotal: 3m\tremaining: 4m 12s\n",
      "5500:\tlearn: 0.9361898\ttotal: 3m 18s\tremaining: 3m 54s\n",
      "6000:\tlearn: 0.9438519\ttotal: 3m 37s\tremaining: 3m 37s\n",
      "6500:\tlearn: 0.9507240\ttotal: 3m 56s\tremaining: 3m 19s\n",
      "7000:\tlearn: 0.9560548\ttotal: 4m 14s\tremaining: 3m 2s\n",
      "7500:\tlearn: 0.9606999\ttotal: 4m 34s\tremaining: 2m 44s\n",
      "8000:\tlearn: 0.9648714\ttotal: 4m 53s\tremaining: 2m 26s\n",
      "8500:\tlearn: 0.9683042\ttotal: 5m 12s\tremaining: 2m 8s\n",
      "9000:\tlearn: 0.9715391\ttotal: 5m 31s\tremaining: 1m 50s\n",
      "9500:\tlearn: 0.9742982\ttotal: 5m 51s\tremaining: 1m 32s\n",
      "10000:\tlearn: 0.9766165\ttotal: 6m 10s\tremaining: 1m 14s\n",
      "10500:\tlearn: 0.9786320\ttotal: 6m 30s\tremaining: 55.7s\n",
      "11000:\tlearn: 0.9803290\ttotal: 6m 49s\tremaining: 37.2s\n",
      "11500:\tlearn: 0.9818029\ttotal: 7m 9s\tremaining: 18.6s\n",
      "11999:\tlearn: 0.9832221\ttotal: 7m 29s\tremaining: 0us\n"
     ]
    },
    {
     "data": {
      "text/plain": [
       "<catboost.core.CatBoostRegressor at 0x25b8e2cbe20>"
      ]
     },
     "execution_count": 282,
     "metadata": {},
     "output_type": "execute_result"
    }
   ],
   "source": [
    "cb_learn_rate = 0.006\n",
    "n_iterations = 12000\n",
    "early_stop_rounds = 400\n",
    "\n",
    "opt_catboost_params = {'iterations' : n_iterations,\n",
    "                       'learning_rate' : cb_learn_rate,\n",
    "                       'depth': 7,\n",
    "                       'bootstrap_type' : 'Bernoulli',\n",
    "                       'random_strength': 1,\n",
    "                       'min_data_in_leaf': 10,\n",
    "                       'l2_leaf_reg': 3,\n",
    "                       'eval_metric' : 'R2',\n",
    "                       'grow_policy' : 'Depthwise',\n",
    "                       'max_bin' : 1024, \n",
    "                       'model_size_reg' : 0,\n",
    "                       'task_type' : 'CPU',\n",
    "                       'od_type' : 'IncToDec',\n",
    "                       'od_wait' : 100,\n",
    "                       'metric_period' : 500,\n",
    "                       'verbose' : 500,\n",
    "                       'subsample' : 0.8,\n",
    "                       'od_pval' : 1e-10,\n",
    "                       'has_time': False,\n",
    "                       'random_seed' : 13}\n",
    "\n",
    "cb_reg = CatBoostRegressor(**opt_catboost_params)\n",
    "\n",
    "cb_reg.fit(train_X, train_y, cat_features=cat_features)"
   ]
  },
  {
   "cell_type": "markdown",
   "id": "cdf69546-f0e0-4e3d-9e54-ad59814a4f7a",
   "metadata": {},
   "source": [
    "## Create Submission File"
   ]
  },
  {
   "cell_type": "code",
   "execution_count": 283,
   "id": "2683c8b1-0b02-4245-afcd-be083df8d6f2",
   "metadata": {},
   "outputs": [
    {
     "data": {
      "text/html": [
       "<div>\n",
       "<style scoped>\n",
       "    .dataframe tbody tr th:only-of-type {\n",
       "        vertical-align: middle;\n",
       "    }\n",
       "\n",
       "    .dataframe tbody tr th {\n",
       "        vertical-align: top;\n",
       "    }\n",
       "\n",
       "    .dataframe thead th {\n",
       "        text-align: right;\n",
       "    }\n",
       "</style>\n",
       "<table border=\"1\" class=\"dataframe\">\n",
       "  <thead>\n",
       "    <tr style=\"text-align: right;\">\n",
       "      <th></th>\n",
       "      <th>campaign_id</th>\n",
       "      <th>sender</th>\n",
       "      <th>subject_len</th>\n",
       "      <th>body_len</th>\n",
       "      <th>mean_paragraph_len</th>\n",
       "      <th>day_of_week</th>\n",
       "      <th>is_weekend</th>\n",
       "      <th>times_of_day</th>\n",
       "      <th>category</th>\n",
       "      <th>product</th>\n",
       "      <th>...</th>\n",
       "      <th>mean_CTA_len</th>\n",
       "      <th>is_image</th>\n",
       "      <th>is_personalised</th>\n",
       "      <th>is_quote</th>\n",
       "      <th>is_timer</th>\n",
       "      <th>is_emoticons</th>\n",
       "      <th>is_discount</th>\n",
       "      <th>is_price</th>\n",
       "      <th>is_urgency</th>\n",
       "      <th>target_audience</th>\n",
       "    </tr>\n",
       "  </thead>\n",
       "  <tbody>\n",
       "    <tr>\n",
       "      <th>0</th>\n",
       "      <td>1889</td>\n",
       "      <td>3</td>\n",
       "      <td>61</td>\n",
       "      <td>12871</td>\n",
       "      <td>11</td>\n",
       "      <td>6</td>\n",
       "      <td>1</td>\n",
       "      <td>Noon</td>\n",
       "      <td>6</td>\n",
       "      <td>26</td>\n",
       "      <td>...</td>\n",
       "      <td>37</td>\n",
       "      <td>1</td>\n",
       "      <td>0</td>\n",
       "      <td>0</td>\n",
       "      <td>0</td>\n",
       "      <td>1</td>\n",
       "      <td>0</td>\n",
       "      <td>0</td>\n",
       "      <td>0</td>\n",
       "      <td>14</td>\n",
       "    </tr>\n",
       "    <tr>\n",
       "      <th>1</th>\n",
       "      <td>1890</td>\n",
       "      <td>3</td>\n",
       "      <td>54</td>\n",
       "      <td>2569</td>\n",
       "      <td>256</td>\n",
       "      <td>5</td>\n",
       "      <td>1</td>\n",
       "      <td>Morning</td>\n",
       "      <td>2</td>\n",
       "      <td>11</td>\n",
       "      <td>...</td>\n",
       "      <td>22</td>\n",
       "      <td>0</td>\n",
       "      <td>0</td>\n",
       "      <td>0</td>\n",
       "      <td>0</td>\n",
       "      <td>0</td>\n",
       "      <td>0</td>\n",
       "      <td>0</td>\n",
       "      <td>0</td>\n",
       "      <td>10</td>\n",
       "    </tr>\n",
       "    <tr>\n",
       "      <th>2</th>\n",
       "      <td>1891</td>\n",
       "      <td>3</td>\n",
       "      <td>88</td>\n",
       "      <td>1473</td>\n",
       "      <td>78</td>\n",
       "      <td>4</td>\n",
       "      <td>0</td>\n",
       "      <td>Evening</td>\n",
       "      <td>2</td>\n",
       "      <td>11</td>\n",
       "      <td>...</td>\n",
       "      <td>22</td>\n",
       "      <td>1</td>\n",
       "      <td>0</td>\n",
       "      <td>1</td>\n",
       "      <td>0</td>\n",
       "      <td>0</td>\n",
       "      <td>0</td>\n",
       "      <td>0</td>\n",
       "      <td>0</td>\n",
       "      <td>10</td>\n",
       "    </tr>\n",
       "    <tr>\n",
       "      <th>3</th>\n",
       "      <td>1892</td>\n",
       "      <td>3</td>\n",
       "      <td>88</td>\n",
       "      <td>1473</td>\n",
       "      <td>78</td>\n",
       "      <td>3</td>\n",
       "      <td>0</td>\n",
       "      <td>Evening</td>\n",
       "      <td>2</td>\n",
       "      <td>11</td>\n",
       "      <td>...</td>\n",
       "      <td>22</td>\n",
       "      <td>1</td>\n",
       "      <td>0</td>\n",
       "      <td>1</td>\n",
       "      <td>0</td>\n",
       "      <td>0</td>\n",
       "      <td>0</td>\n",
       "      <td>0</td>\n",
       "      <td>0</td>\n",
       "      <td>10</td>\n",
       "    </tr>\n",
       "    <tr>\n",
       "      <th>4</th>\n",
       "      <td>1893</td>\n",
       "      <td>3</td>\n",
       "      <td>78</td>\n",
       "      <td>9020</td>\n",
       "      <td>29</td>\n",
       "      <td>3</td>\n",
       "      <td>0</td>\n",
       "      <td>Noon</td>\n",
       "      <td>6</td>\n",
       "      <td>26</td>\n",
       "      <td>...</td>\n",
       "      <td>40</td>\n",
       "      <td>0</td>\n",
       "      <td>0</td>\n",
       "      <td>0</td>\n",
       "      <td>0</td>\n",
       "      <td>0</td>\n",
       "      <td>0</td>\n",
       "      <td>0</td>\n",
       "      <td>0</td>\n",
       "      <td>14</td>\n",
       "    </tr>\n",
       "  </tbody>\n",
       "</table>\n",
       "<p>5 rows × 21 columns</p>\n",
       "</div>"
      ],
      "text/plain": [
       "   campaign_id  sender  subject_len  body_len  mean_paragraph_len  \\\n",
       "0         1889       3           61     12871                  11   \n",
       "1         1890       3           54      2569                 256   \n",
       "2         1891       3           88      1473                  78   \n",
       "3         1892       3           88      1473                  78   \n",
       "4         1893       3           78      9020                  29   \n",
       "\n",
       "   day_of_week  is_weekend times_of_day  category  product  ...  mean_CTA_len  \\\n",
       "0            6           1         Noon         6       26  ...            37   \n",
       "1            5           1      Morning         2       11  ...            22   \n",
       "2            4           0      Evening         2       11  ...            22   \n",
       "3            3           0      Evening         2       11  ...            22   \n",
       "4            3           0         Noon         6       26  ...            40   \n",
       "\n",
       "   is_image  is_personalised  is_quote  is_timer  is_emoticons  is_discount  \\\n",
       "0         1                0         0         0             1            0   \n",
       "1         0                0         0         0             0            0   \n",
       "2         1                0         1         0             0            0   \n",
       "3         1                0         1         0             0            0   \n",
       "4         0                0         0         0             0            0   \n",
       "\n",
       "   is_price  is_urgency  target_audience  \n",
       "0         0           0               14  \n",
       "1         0           0               10  \n",
       "2         0           0               10  \n",
       "3         0           0               10  \n",
       "4         0           0               14  \n",
       "\n",
       "[5 rows x 21 columns]"
      ]
     },
     "execution_count": 283,
     "metadata": {},
     "output_type": "execute_result"
    }
   ],
   "source": [
    "test_df = pd.read_csv(test_data_path)\n",
    "test_df.head()"
   ]
  },
  {
   "cell_type": "code",
   "execution_count": 284,
   "id": "63eb7d8a-1d6c-4179-8c16-e2610b5e4da8",
   "metadata": {},
   "outputs": [],
   "source": [
    "test_df['sub_len'] = pd.cut(test_df['subject_len'], bins=sub_len_bins, labels=sub_len_labels)\n",
    "test_df['bod_len'] = pd.cut(test_df['body_len'], bins=body_len_bins, labels=body_len_labels)\n",
    "test_df['para_len'] = pd.cut(test_df['mean_paragraph_len'], bins=para_len_bins, labels=para_len_labels)\n",
    "test_df['cta_len'] = pd.cut(test_df['mean_CTA_len'], bins=para_len_bins, labels=para_len_labels)\n",
    "\n",
    "test_df.is_emoticons = test_df.is_emoticons.apply(lambda value: 0 if value==0 else 1)\n",
    "test_df.is_quote = test_df.is_quote.apply(lambda value: 0 if value==0 else 1)\n",
    "test_df.is_price = test_df.is_price.apply(lambda value: 0 if value==0 else 1)"
   ]
  },
  {
   "cell_type": "code",
   "execution_count": 285,
   "id": "eac79f4d-3578-44fb-a32e-53511e57b192",
   "metadata": {},
   "outputs": [
    {
     "name": "stdout",
     "output_type": "stream",
     "text": [
      "<class 'pandas.core.frame.DataFrame'>\n",
      "RangeIndex: 762 entries, 0 to 761\n",
      "Data columns (total 25 columns):\n",
      " #   Column              Non-Null Count  Dtype   \n",
      "---  ------              --------------  -----   \n",
      " 0   campaign_id         762 non-null    int64   \n",
      " 1   sender              762 non-null    int64   \n",
      " 2   subject_len         762 non-null    int64   \n",
      " 3   body_len            762 non-null    int64   \n",
      " 4   mean_paragraph_len  762 non-null    int64   \n",
      " 5   day_of_week         762 non-null    int64   \n",
      " 6   is_weekend          762 non-null    int64   \n",
      " 7   times_of_day        762 non-null    object  \n",
      " 8   category            762 non-null    int64   \n",
      " 9   product             762 non-null    int64   \n",
      " 10  no_of_CTA           762 non-null    int64   \n",
      " 11  mean_CTA_len        762 non-null    int64   \n",
      " 12  is_image            762 non-null    int64   \n",
      " 13  is_personalised     762 non-null    int64   \n",
      " 14  is_quote            762 non-null    int64   \n",
      " 15  is_timer            762 non-null    int64   \n",
      " 16  is_emoticons        762 non-null    int64   \n",
      " 17  is_discount         762 non-null    int64   \n",
      " 18  is_price            762 non-null    int64   \n",
      " 19  is_urgency          762 non-null    int64   \n",
      " 20  target_audience     762 non-null    int64   \n",
      " 21  sub_len             762 non-null    category\n",
      " 22  bod_len             762 non-null    category\n",
      " 23  para_len            762 non-null    category\n",
      " 24  cta_len             762 non-null    category\n",
      "dtypes: category(4), int64(20), object(1)\n",
      "memory usage: 128.6+ KB\n"
     ]
    }
   ],
   "source": [
    "test_df.info()"
   ]
  },
  {
   "cell_type": "code",
   "execution_count": 286,
   "id": "fba9cfcf-e445-4c3b-94e8-887d4fd6c4e4",
   "metadata": {},
   "outputs": [],
   "source": [
    "test_ids = test_df['campaign_id']\n",
    "test_df = test_df.drop([\"campaign_id\", \"is_timer\"], axis=1)"
   ]
  },
  {
   "cell_type": "code",
   "execution_count": 287,
   "id": "4d920ed2-5bd8-4b8d-b4ed-4e1a9b446dd8",
   "metadata": {},
   "outputs": [
    {
     "data": {
      "text/html": [
       "<div>\n",
       "<style scoped>\n",
       "    .dataframe tbody tr th:only-of-type {\n",
       "        vertical-align: middle;\n",
       "    }\n",
       "\n",
       "    .dataframe tbody tr th {\n",
       "        vertical-align: top;\n",
       "    }\n",
       "\n",
       "    .dataframe thead th {\n",
       "        text-align: right;\n",
       "    }\n",
       "</style>\n",
       "<table border=\"1\" class=\"dataframe\">\n",
       "  <thead>\n",
       "    <tr style=\"text-align: right;\">\n",
       "      <th></th>\n",
       "      <th>campaign_id</th>\n",
       "    </tr>\n",
       "  </thead>\n",
       "  <tbody>\n",
       "    <tr>\n",
       "      <th>0</th>\n",
       "      <td>1889</td>\n",
       "    </tr>\n",
       "    <tr>\n",
       "      <th>1</th>\n",
       "      <td>1890</td>\n",
       "    </tr>\n",
       "    <tr>\n",
       "      <th>2</th>\n",
       "      <td>1891</td>\n",
       "    </tr>\n",
       "    <tr>\n",
       "      <th>3</th>\n",
       "      <td>1892</td>\n",
       "    </tr>\n",
       "    <tr>\n",
       "      <th>4</th>\n",
       "      <td>1893</td>\n",
       "    </tr>\n",
       "  </tbody>\n",
       "</table>\n",
       "</div>"
      ],
      "text/plain": [
       "   campaign_id\n",
       "0         1889\n",
       "1         1890\n",
       "2         1891\n",
       "3         1892\n",
       "4         1893"
      ]
     },
     "execution_count": 287,
     "metadata": {},
     "output_type": "execute_result"
    }
   ],
   "source": [
    "submission_df = pd.DataFrame(test_ids, columns=['campaign_id'])\n",
    "submission_df.head()"
   ]
  },
  {
   "cell_type": "code",
   "execution_count": 288,
   "id": "fe677cd9-adc4-407d-8ab6-166eea58a49a",
   "metadata": {},
   "outputs": [],
   "source": [
    "# scaled_test_X = scaler.transform(test_df)\n",
    "cb_predict = cb_reg.predict(test_df)\n",
    "prediction = np.array([0 if item<0 else item for item in list(cb_predict)])\n",
    "# r2_score(y_val, prediction)"
   ]
  },
  {
   "cell_type": "code",
   "execution_count": 289,
   "id": "1fc3a59f-c83f-4cea-a15b-1779d22ae53a",
   "metadata": {},
   "outputs": [
    {
     "name": "stdout",
     "output_type": "stream",
     "text": [
      "<class 'pandas.core.frame.DataFrame'>\n",
      "RangeIndex: 762 entries, 0 to 761\n",
      "Data columns (total 23 columns):\n",
      " #   Column              Non-Null Count  Dtype   \n",
      "---  ------              --------------  -----   \n",
      " 0   sender              762 non-null    int64   \n",
      " 1   subject_len         762 non-null    int64   \n",
      " 2   body_len            762 non-null    int64   \n",
      " 3   mean_paragraph_len  762 non-null    int64   \n",
      " 4   day_of_week         762 non-null    int64   \n",
      " 5   is_weekend          762 non-null    int64   \n",
      " 6   times_of_day        762 non-null    object  \n",
      " 7   category            762 non-null    int64   \n",
      " 8   product             762 non-null    int64   \n",
      " 9   no_of_CTA           762 non-null    int64   \n",
      " 10  mean_CTA_len        762 non-null    int64   \n",
      " 11  is_image            762 non-null    int64   \n",
      " 12  is_personalised     762 non-null    int64   \n",
      " 13  is_quote            762 non-null    int64   \n",
      " 14  is_emoticons        762 non-null    int64   \n",
      " 15  is_discount         762 non-null    int64   \n",
      " 16  is_price            762 non-null    int64   \n",
      " 17  is_urgency          762 non-null    int64   \n",
      " 18  target_audience     762 non-null    int64   \n",
      " 19  sub_len             762 non-null    category\n",
      " 20  bod_len             762 non-null    category\n",
      " 21  para_len            762 non-null    category\n",
      " 22  cta_len             762 non-null    category\n",
      "dtypes: category(4), int64(18), object(1)\n",
      "memory usage: 116.7+ KB\n"
     ]
    }
   ],
   "source": [
    "test_df.info()"
   ]
  },
  {
   "cell_type": "code",
   "execution_count": 290,
   "id": "f6b9e341-8b25-462a-8699-130dcb163e2c",
   "metadata": {},
   "outputs": [
    {
     "data": {
      "text/html": [
       "<div>\n",
       "<style scoped>\n",
       "    .dataframe tbody tr th:only-of-type {\n",
       "        vertical-align: middle;\n",
       "    }\n",
       "\n",
       "    .dataframe tbody tr th {\n",
       "        vertical-align: top;\n",
       "    }\n",
       "\n",
       "    .dataframe thead th {\n",
       "        text-align: right;\n",
       "    }\n",
       "</style>\n",
       "<table border=\"1\" class=\"dataframe\">\n",
       "  <thead>\n",
       "    <tr style=\"text-align: right;\">\n",
       "      <th></th>\n",
       "      <th>campaign_id</th>\n",
       "      <th>click_rate</th>\n",
       "    </tr>\n",
       "  </thead>\n",
       "  <tbody>\n",
       "    <tr>\n",
       "      <th>0</th>\n",
       "      <td>1889</td>\n",
       "      <td>0.037259</td>\n",
       "    </tr>\n",
       "    <tr>\n",
       "      <th>1</th>\n",
       "      <td>1890</td>\n",
       "      <td>0.624676</td>\n",
       "    </tr>\n",
       "    <tr>\n",
       "      <th>2</th>\n",
       "      <td>1891</td>\n",
       "      <td>0.184264</td>\n",
       "    </tr>\n",
       "    <tr>\n",
       "      <th>3</th>\n",
       "      <td>1892</td>\n",
       "      <td>0.192269</td>\n",
       "    </tr>\n",
       "    <tr>\n",
       "      <th>4</th>\n",
       "      <td>1893</td>\n",
       "      <td>0.153721</td>\n",
       "    </tr>\n",
       "  </tbody>\n",
       "</table>\n",
       "</div>"
      ],
      "text/plain": [
       "   campaign_id  click_rate\n",
       "0         1889    0.037259\n",
       "1         1890    0.624676\n",
       "2         1891    0.184264\n",
       "3         1892    0.192269\n",
       "4         1893    0.153721"
      ]
     },
     "execution_count": 290,
     "metadata": {},
     "output_type": "execute_result"
    }
   ],
   "source": [
    "submission_df['click_rate'] = cb_predict\n",
    "submission_df.head()"
   ]
  },
  {
   "cell_type": "code",
   "execution_count": 291,
   "id": "7febc0b9-ea1a-43a8-b9d4-adc53c4ab73c",
   "metadata": {},
   "outputs": [],
   "source": [
    "submission_df.to_csv(\"submission.csv\", index=False)"
   ]
  },
  {
   "cell_type": "code",
   "execution_count": null,
   "id": "f95fe25a-a57a-4747-85a2-ff7f483e6926",
   "metadata": {},
   "outputs": [],
   "source": []
  },
  {
   "cell_type": "code",
   "execution_count": null,
   "id": "b0525439-5273-4937-af2b-4e42d8b59a9a",
   "metadata": {},
   "outputs": [],
   "source": []
  }
 ],
 "metadata": {
  "kernelspec": {
   "display_name": "Python 3 (ipykernel)",
   "language": "python",
   "name": "python3"
  },
  "language_info": {
   "codemirror_mode": {
    "name": "ipython",
    "version": 3
   },
   "file_extension": ".py",
   "mimetype": "text/x-python",
   "name": "python",
   "nbconvert_exporter": "python",
   "pygments_lexer": "ipython3",
   "version": "3.10.4"
  }
 },
 "nbformat": 4,
 "nbformat_minor": 5
}
